{
 "cells": [
  {
   "cell_type": "markdown",
   "metadata": {},
   "source": [
    "@author: Eleni Ntemou\n",
    "Analysis per day and week on the 5 KPIs \n",
    "IPTO: DEV, ANDEV, RMSDEV, NADEV, NRMSDEV\n",
    "METEOGEN: BIAS, MAE, RMSE, NMAE, NRMSE\n",
    "\n",
    "DEV = ABS(SUM(MQ-FORECAST)) per every 15 minutes by day sum\n",
    "ANDEV = DEV/SUM(MQ)\n",
    "RMSDEV = SUM((ANDEV)^2)\n",
    "NADEV = ANDEV/SUM(MQ)\n",
    "NRMSDEV = RMSDEV/SQRT(SUM((MQ)^2))"
   ]
  },
  {
   "cell_type": "markdown",
   "metadata": {},
   "source": [
    "Libraries"
   ]
  },
  {
   "cell_type": "code",
   "execution_count": 289,
   "metadata": {},
   "outputs": [],
   "source": [
    "import pandas as pd\n",
    "import os\n",
    "import matplotlib.pyplot as plt\n",
    "import seaborn as sns\n",
    "from scipy.stats import ttest_ind\n",
    "import numpy as np\n",
    "from datetime import datetime\n",
    "from matplotlib.dates import WeekdayLocator, DateFormatter\n",
    "import matplotlib.dates as mdates\n",
    "from openpyxl import load_workbook"
   ]
  },
  {
   "cell_type": "markdown",
   "metadata": {},
   "source": [
    "Load the data"
   ]
  },
  {
   "cell_type": "markdown",
   "metadata": {},
   "source": [
    "E6, MS, MQ from GEARS platform\n",
    "Manually change path each time when running as the download name is tied to the date that the data was downloaded"
   ]
  },
  {
   "cell_type": "code",
   "execution_count": 290,
   "metadata": {},
   "outputs": [],
   "source": [
    "path = \"C:/Users/Eleni/OneDrive - Hellenic Association for Energy Economics (1)/GEARS TASKS/Tasks/METEOGEN Analysis/met_e6_data.xlsx\"\n",
    "df = pd.read_excel(path)"
   ]
  },
  {
   "cell_type": "code",
   "execution_count": 291,
   "metadata": {},
   "outputs": [],
   "source": [
    "df = df.set_index('Valid Date UTC+2')"
   ]
  },
  {
   "cell_type": "code",
   "execution_count": 292,
   "metadata": {},
   "outputs": [
    {
     "data": {
      "text/html": [
       "<div>\n",
       "<style scoped>\n",
       "    .dataframe tbody tr th:only-of-type {\n",
       "        vertical-align: middle;\n",
       "    }\n",
       "\n",
       "    .dataframe tbody tr th {\n",
       "        vertical-align: top;\n",
       "    }\n",
       "\n",
       "    .dataframe thead th {\n",
       "        text-align: right;\n",
       "    }\n",
       "</style>\n",
       "<table border=\"1\" class=\"dataframe\">\n",
       "  <thead>\n",
       "    <tr style=\"text-align: right;\">\n",
       "      <th></th>\n",
       "      <th>MET Energy (MWh)</th>\n",
       "      <th>MET Power (MWh)</th>\n",
       "      <th>E6 Power (MW)</th>\n",
       "      <th>E6 Energy (MWh)</th>\n",
       "      <th>W+1 (MWh)</th>\n",
       "      <th>MQ (MWh)</th>\n",
       "      <th>MS (MWh)</th>\n",
       "      <th>E6-MQ (MWh)</th>\n",
       "      <th>MET-MQ (MWh)</th>\n",
       "    </tr>\n",
       "    <tr>\n",
       "      <th>Valid Date UTC+2</th>\n",
       "      <th></th>\n",
       "      <th></th>\n",
       "      <th></th>\n",
       "      <th></th>\n",
       "      <th></th>\n",
       "      <th></th>\n",
       "      <th></th>\n",
       "      <th></th>\n",
       "      <th></th>\n",
       "    </tr>\n",
       "  </thead>\n",
       "  <tbody>\n",
       "    <tr>\n",
       "      <th>2023-11-20 02:00:00</th>\n",
       "      <td>0.0</td>\n",
       "      <td>0.0</td>\n",
       "      <td>0.0</td>\n",
       "      <td>0.0</td>\n",
       "      <td>0.0</td>\n",
       "      <td>0.0</td>\n",
       "      <td>0.0</td>\n",
       "      <td>0.0</td>\n",
       "      <td>0.0</td>\n",
       "    </tr>\n",
       "    <tr>\n",
       "      <th>2023-11-20 02:15:00</th>\n",
       "      <td>0.0</td>\n",
       "      <td>0.0</td>\n",
       "      <td>0.0</td>\n",
       "      <td>0.0</td>\n",
       "      <td>0.0</td>\n",
       "      <td>0.0</td>\n",
       "      <td>0.0</td>\n",
       "      <td>0.0</td>\n",
       "      <td>0.0</td>\n",
       "    </tr>\n",
       "    <tr>\n",
       "      <th>2023-11-20 02:30:00</th>\n",
       "      <td>0.0</td>\n",
       "      <td>0.0</td>\n",
       "      <td>0.0</td>\n",
       "      <td>0.0</td>\n",
       "      <td>0.0</td>\n",
       "      <td>0.0</td>\n",
       "      <td>0.0</td>\n",
       "      <td>0.0</td>\n",
       "      <td>0.0</td>\n",
       "    </tr>\n",
       "    <tr>\n",
       "      <th>2023-11-20 02:45:00</th>\n",
       "      <td>0.0</td>\n",
       "      <td>0.0</td>\n",
       "      <td>0.0</td>\n",
       "      <td>0.0</td>\n",
       "      <td>0.0</td>\n",
       "      <td>0.0</td>\n",
       "      <td>0.0</td>\n",
       "      <td>0.0</td>\n",
       "      <td>0.0</td>\n",
       "    </tr>\n",
       "    <tr>\n",
       "      <th>2023-11-20 03:00:00</th>\n",
       "      <td>0.0</td>\n",
       "      <td>0.0</td>\n",
       "      <td>0.0</td>\n",
       "      <td>0.0</td>\n",
       "      <td>0.0</td>\n",
       "      <td>0.0</td>\n",
       "      <td>0.0</td>\n",
       "      <td>0.0</td>\n",
       "      <td>0.0</td>\n",
       "    </tr>\n",
       "  </tbody>\n",
       "</table>\n",
       "</div>"
      ],
      "text/plain": [
       "                     MET Energy (MWh)  MET Power (MWh)  E6 Power (MW)  \\\n",
       "Valid Date UTC+2                                                        \n",
       "2023-11-20 02:00:00               0.0              0.0            0.0   \n",
       "2023-11-20 02:15:00               0.0              0.0            0.0   \n",
       "2023-11-20 02:30:00               0.0              0.0            0.0   \n",
       "2023-11-20 02:45:00               0.0              0.0            0.0   \n",
       "2023-11-20 03:00:00               0.0              0.0            0.0   \n",
       "\n",
       "                     E6 Energy (MWh)  W+1 (MWh)  MQ (MWh)  MS (MWh)  \\\n",
       "Valid Date UTC+2                                                      \n",
       "2023-11-20 02:00:00              0.0        0.0       0.0       0.0   \n",
       "2023-11-20 02:15:00              0.0        0.0       0.0       0.0   \n",
       "2023-11-20 02:30:00              0.0        0.0       0.0       0.0   \n",
       "2023-11-20 02:45:00              0.0        0.0       0.0       0.0   \n",
       "2023-11-20 03:00:00              0.0        0.0       0.0       0.0   \n",
       "\n",
       "                     E6-MQ (MWh)  MET-MQ (MWh)  \n",
       "Valid Date UTC+2                                \n",
       "2023-11-20 02:00:00          0.0           0.0  \n",
       "2023-11-20 02:15:00          0.0           0.0  \n",
       "2023-11-20 02:30:00          0.0           0.0  \n",
       "2023-11-20 02:45:00          0.0           0.0  \n",
       "2023-11-20 03:00:00          0.0           0.0  "
      ]
     },
     "execution_count": 292,
     "metadata": {},
     "output_type": "execute_result"
    }
   ],
   "source": [
    "df.head()"
   ]
  },
  {
   "cell_type": "code",
   "execution_count": 293,
   "metadata": {},
   "outputs": [],
   "source": [
    "# Drop rows where the index is greater than December 18th, 2023\n",
    "#cutoff_date = pd.to_datetime('2023-12-10 23:45:00')\n",
    "#df = df[df.index > cutoff_date]\n",
    "#result = result.drop(result.index[-1])\n",
    "#result.head()"
   ]
  },
  {
   "cell_type": "code",
   "execution_count": 294,
   "metadata": {},
   "outputs": [
    {
     "name": "stdout",
     "output_type": "stream",
     "text": [
      "Any NaN values: False\n"
     ]
    }
   ],
   "source": [
    "#Check for nan data\n",
    "# Check for NaN values\n",
    "nan_check = df.isna()\n",
    "\n",
    "any_nan_values = nan_check.any().any()\n",
    "print(f\"Any NaN values: {any_nan_values}\")"
   ]
  },
  {
   "cell_type": "code",
   "execution_count": 295,
   "metadata": {},
   "outputs": [],
   "source": [
    "#fill the missing data with 0\n",
    "#df = df.fillna(0)"
   ]
  },
  {
   "cell_type": "code",
   "execution_count": 296,
   "metadata": {},
   "outputs": [
    {
     "data": {
      "text/plain": [
       "Index(['MET Energy (MWh)', 'MET Power (MWh)', 'E6 Power (MW)',\n",
       "       'E6 Energy (MWh)', 'W+1 (MWh)', 'MQ (MWh)', 'MS (MWh)', 'E6-MQ (MWh)',\n",
       "       'MET-MQ (MWh)'],\n",
       "      dtype='object')"
      ]
     },
     "execution_count": 296,
     "metadata": {},
     "output_type": "execute_result"
    }
   ],
   "source": [
    "df.columns"
   ]
  },
  {
   "cell_type": "code",
   "execution_count": 298,
   "metadata": {},
   "outputs": [],
   "source": [
    "df = df.rename(columns={'E6 Energy (MWh)':'Energy E6 (MWh)'})"
   ]
  },
  {
   "cell_type": "code",
   "execution_count": 303,
   "metadata": {},
   "outputs": [],
   "source": [
    "df = df.rename(columns={'MS (MWh)':'MS (ΜWh)'})"
   ]
  },
  {
   "cell_type": "markdown",
   "metadata": {},
   "source": [
    "Create the 5 KPIs|\n",
    "The end file will have different TABS, 1 for each week with the 5 KPIs and 1 TAB with the full range of data "
   ]
  },
  {
   "cell_type": "markdown",
   "metadata": {},
   "source": [
    "DAILY"
   ]
  },
  {
   "cell_type": "code",
   "execution_count": 299,
   "metadata": {},
   "outputs": [
    {
     "data": {
      "text/plain": [
       "'\\nSplit by day by day\\n\\nDEV = ABS(SUM(MQ-FORECAST)) per every 15 minutes by day sum                             MWh\\nADEV = SUM(ABS(MQ - FORECAST))                                                          MWh\\nNADEV = ADEV/(SUM(MQ))                                                                  percentage %\\nRMSDEV = SQRT(SUM((MQ - FORECAST)^2))                                                   MWh\\nANDEV = SUM(DEV)/SUM(MQ) = SUM(ABS(SUM(MQ-FORECAST)))                                   percentage %\\nNRMSDEV = RMSDEV/SQRT(SUM(MQ^2)) = SQRT(SUM((MQ - FORECAST)^2))/SQRT(SUM(MQ^2))         percentage %           \\n\\n'"
      ]
     },
     "execution_count": 299,
     "metadata": {},
     "output_type": "execute_result"
    }
   ],
   "source": [
    "\"\"\"\n",
    "Split by day by day\n",
    "\n",
    "DEV = ABS(SUM(MQ-FORECAST)) per every 15 minutes by day sum                             MWh\n",
    "ADEV = SUM(ABS(MQ - FORECAST))                                                          MWh\n",
    "NADEV = ADEV/(SUM(MQ))                                                                  percentage %\n",
    "RMSDEV = SQRT(SUM((MQ - FORECAST)^2))                                                   MWh\n",
    "ANDEV = SUM(DEV)/SUM(MQ) = SUM(ABS(SUM(MQ-FORECAST)))                                   percentage %\n",
    "NRMSDEV = RMSDEV/SQRT(SUM(MQ^2)) = SQRT(SUM((MQ - FORECAST)^2))/SQRT(SUM(MQ^2))         percentage %           \n",
    "\n",
    "\"\"\""
   ]
  },
  {
   "cell_type": "markdown",
   "metadata": {},
   "source": [
    "DEV"
   ]
  },
  {
   "cell_type": "code",
   "execution_count": 300,
   "metadata": {},
   "outputs": [],
   "source": [
    "df['MQ - E6'] = df['MQ (MWh)'] - df['Energy E6 (MWh)']\n",
    "daily_sum = df['MQ - E6'].resample('D').transform('sum')\n",
    "df['dummy'] = daily_sum\n",
    "df['E6 DEV'] = np.where(df['dummy'] < 0, -df['dummy'], df['dummy'])"
   ]
  },
  {
   "cell_type": "code",
   "execution_count": 301,
   "metadata": {},
   "outputs": [],
   "source": [
    "df['MQ - MET'] = df['MQ (MWh)'] - df['MET Energy (MWh)']\n",
    "daily_sum = df['MQ - MET'].resample('D').transform('sum')\n",
    "df['dummy'] = daily_sum\n",
    "df['MET DEV'] = np.where(df['dummy'] < 0, -df['dummy'], df['dummy'])"
   ]
  },
  {
   "cell_type": "code",
   "execution_count": 304,
   "metadata": {},
   "outputs": [],
   "source": [
    "df['MQ - MS'] = df['MQ (MWh)'] - df['MS (ΜWh)']\n",
    "daily_sum = df['MQ - MS'].resample('D').transform('sum')\n",
    "df['dummy'] = daily_sum\n",
    "df['MS DEV'] = np.where(df['dummy'] < 0, -df['dummy'], df['dummy'])"
   ]
  },
  {
   "cell_type": "code",
   "execution_count": 305,
   "metadata": {},
   "outputs": [],
   "source": [
    "#df['MQ - W+1'] = df['MQ (MWh)'] - df[' IPTO W+1 (MWh)']\n",
    "#daily_sum = df['MQ - W+1'].resample('D').transform('sum')\n",
    "#df['dummy'] = daily_sum\n",
    "#df['W+1 DEV'] = np.where(df['dummy'] < 0, -df['dummy'], df['dummy'])"
   ]
  },
  {
   "cell_type": "markdown",
   "metadata": {},
   "source": [
    "ADEV"
   ]
  },
  {
   "cell_type": "code",
   "execution_count": 306,
   "metadata": {},
   "outputs": [],
   "source": [
    "df['MQ - E6'] = np.where(df['MQ - E6'] < 0, -df['MQ - E6'], df['MQ - E6'])\n",
    "daily_sum = df['MQ - E6'].resample('D').transform('sum')\n",
    "df['E6 ADEV'] = daily_sum"
   ]
  },
  {
   "cell_type": "code",
   "execution_count": 307,
   "metadata": {},
   "outputs": [],
   "source": [
    "df['MQ - MET'] = np.where(df['MQ - MET'] < 0, -df['MQ - MET'], df['MQ - MET'])\n",
    "daily_sum = df['MQ - MET'].resample('D').transform('sum')\n",
    "df['MET ADEV'] = daily_sum"
   ]
  },
  {
   "cell_type": "code",
   "execution_count": 308,
   "metadata": {},
   "outputs": [],
   "source": [
    "df['MQ - MS'] = np.where(df['MQ - MS'] < 0, -df['MQ - MS'], df['MQ - MS'])\n",
    "daily_sum = df['MQ - MS'].resample('D').transform('sum')\n",
    "df['MS ADEV'] = daily_sum"
   ]
  },
  {
   "cell_type": "code",
   "execution_count": 309,
   "metadata": {},
   "outputs": [],
   "source": [
    "#df['MQ - W+1'] = np.where(df['MQ - W+1'] < 0, -df['MQ - W+1'], df['MQ - W+1'])\n",
    "#daily_sum = df['MQ - W+1'].resample('D').transform('sum')\n",
    "#df['W+1 ADEV'] = daily_sum"
   ]
  },
  {
   "cell_type": "markdown",
   "metadata": {},
   "source": [
    "NADEV"
   ]
  },
  {
   "cell_type": "code",
   "execution_count": 310,
   "metadata": {},
   "outputs": [],
   "source": [
    "daily_sum = df['MQ (MWh)'].resample('D').transform('sum')\n",
    "df['DAILY SUM MQ'] = daily_sum\n",
    "df['E6 NADEV'] = (df['E6 ADEV']/df['DAILY SUM MQ'])*100"
   ]
  },
  {
   "cell_type": "code",
   "execution_count": 311,
   "metadata": {},
   "outputs": [],
   "source": [
    "df['MET NADEV'] = (df['MET ADEV']/df['DAILY SUM MQ'])*100"
   ]
  },
  {
   "cell_type": "code",
   "execution_count": 312,
   "metadata": {},
   "outputs": [],
   "source": [
    "df['MS NADEV'] = (df['MS ADEV']/df['DAILY SUM MQ'])*100"
   ]
  },
  {
   "cell_type": "code",
   "execution_count": 313,
   "metadata": {},
   "outputs": [],
   "source": [
    "#df['W+1 NADEV'] = (df['W+1 ADEV']/df['DAILY SUM MQ'])*100"
   ]
  },
  {
   "cell_type": "markdown",
   "metadata": {},
   "source": [
    "RMSDEV"
   ]
  },
  {
   "cell_type": "code",
   "execution_count": 314,
   "metadata": {},
   "outputs": [],
   "source": [
    "daily_sum = ((df['MQ - E6'])**2).resample('D').transform('sum')\n",
    "df['E6 RMSDEV'] = (daily_sum)**(1/2)"
   ]
  },
  {
   "cell_type": "code",
   "execution_count": 315,
   "metadata": {},
   "outputs": [],
   "source": [
    "daily_sum = ((df['MQ - MET'])**2).resample('D').transform('sum')\n",
    "df['MET RMSDEV'] = (daily_sum)**(1/2)"
   ]
  },
  {
   "cell_type": "code",
   "execution_count": 316,
   "metadata": {},
   "outputs": [],
   "source": [
    "daily_sum = ((df['MQ - MS'])**2).resample('D').transform('sum')\n",
    "df['MS RMSDEV'] = (daily_sum)**(1/2)"
   ]
  },
  {
   "cell_type": "code",
   "execution_count": 317,
   "metadata": {},
   "outputs": [],
   "source": [
    "#daily_sum = ((df['MQ - W+1'])**2).resample('D').transform('sum')\n",
    "#df['W+1 RMSDEV'] = (daily_sum)**(1/2)"
   ]
  },
  {
   "cell_type": "markdown",
   "metadata": {},
   "source": [
    "ANDEV"
   ]
  },
  {
   "cell_type": "code",
   "execution_count": 318,
   "metadata": {},
   "outputs": [],
   "source": [
    "df['E6 ANDEV'] = (df['E6 DEV']/df['DAILY SUM MQ'])*100"
   ]
  },
  {
   "cell_type": "code",
   "execution_count": 319,
   "metadata": {},
   "outputs": [],
   "source": [
    "df['MET ANDEV'] = (df['MET DEV']/df['DAILY SUM MQ'])*100"
   ]
  },
  {
   "cell_type": "code",
   "execution_count": 320,
   "metadata": {},
   "outputs": [],
   "source": [
    "df['MS ANDEV'] = (df['MS DEV']/df['DAILY SUM MQ'])*100"
   ]
  },
  {
   "cell_type": "code",
   "execution_count": 321,
   "metadata": {},
   "outputs": [],
   "source": [
    "#df['W+1 ANDEV'] = (df['W+1 DEV']/df['DAILY SUM MQ'])*100"
   ]
  },
  {
   "cell_type": "markdown",
   "metadata": {},
   "source": [
    "NRMSDEV"
   ]
  },
  {
   "cell_type": "code",
   "execution_count": 322,
   "metadata": {},
   "outputs": [],
   "source": [
    "daily_sum = ((df['MQ (MWh)'])**2).resample('D').transform('sum')\n",
    "df['dummy'] = (daily_sum)**(1/2)\n",
    "df['E6 NRMSDEV'] = (df['E6 RMSDEV']/df['dummy'])*100"
   ]
  },
  {
   "cell_type": "code",
   "execution_count": 323,
   "metadata": {},
   "outputs": [],
   "source": [
    "df['MET NRMSDEV'] = (df['MET RMSDEV']/df['dummy'])*100"
   ]
  },
  {
   "cell_type": "code",
   "execution_count": 324,
   "metadata": {},
   "outputs": [],
   "source": [
    "df['MS NRMSDEV'] = (df['MS RMSDEV']/df['dummy'])*100"
   ]
  },
  {
   "cell_type": "code",
   "execution_count": 325,
   "metadata": {},
   "outputs": [],
   "source": [
    "#df['W+1 NRMSDEV'] = (df['W+1 RMSDEV']/df['dummy'])*100"
   ]
  },
  {
   "cell_type": "markdown",
   "metadata": {},
   "source": [
    "Rename some columns"
   ]
  },
  {
   "cell_type": "code",
   "execution_count": 326,
   "metadata": {},
   "outputs": [],
   "source": [
    "mapping = {'E6 DEV': 'E6 DEV (MWh)',\n",
    "'MET DEV': 'MET DEV (MWh)',\n",
    "#'W+1 DEV': 'W+1 DEV (MWh)',\n",
    "'MS DEV': 'MS DEV (MWh)',\n",
    "'E6 ADEV': 'E6 ADEV (MWh)',\n",
    "'MET ADEV': 'MET ADEV (MWh)',\n",
    "'MS ADEV': 'MS ADEV (MWh)',\n",
    "#'W+1 ADEV': 'W+1 ADEV (MWh)',\n",
    "'E6 NADEV': 'E6 NADEV (%)',\n",
    "'MET NADEV': 'MET NADEV (%)',\n",
    "'MS NADEV': 'MS NADEV (%)',\n",
    "#'W+1 NADEV': 'W+1 NADEV (%)',\n",
    "'E6 RMSDEV': 'E6 RMSDEV (MWh)',\n",
    "'MET RMSDEV': 'MET RMSDEV (MWh)',\n",
    "'MS RMSDEV': 'MS RMSDEV (MWh)',\n",
    "#'W+1 RMSDEV': 'W+1 RMSDEV (MWh)',\n",
    "'E6 NRMSDEV': 'E6 NRMSDEV (%)',\n",
    "'MS NRMSDEV': 'MS NRMSDEV (%)',\n",
    "#'W+1 NRMSDEV':  'W+1 NRMSDEV(%)',\n",
    "'E6 ANDEV': \"E6 ANDEV (%)\",\n",
    "'MS ANDEV': \"MS ANDEV (%)\",\n",
    "'MET ANDEV': 'MET ANDEV (%)',\n",
    "#'W+1 ANDEV': 'W+1 ANDEV (%)',\n",
    "'MET NRMSDEV': 'MET NRMSDEV (%)'}"
   ]
  },
  {
   "cell_type": "code",
   "execution_count": 327,
   "metadata": {},
   "outputs": [],
   "source": [
    "df.rename(columns = mapping, inplace=True)"
   ]
  },
  {
   "cell_type": "markdown",
   "metadata": {},
   "source": [
    "Save to new dataframe the 5 KPIs"
   ]
  },
  {
   "cell_type": "code",
   "execution_count": 328,
   "metadata": {},
   "outputs": [],
   "source": [
    "mask = df.index.time == pd.to_datetime('00:00:00').time()"
   ]
  },
  {
   "cell_type": "code",
   "execution_count": 329,
   "metadata": {},
   "outputs": [],
   "source": [
    "#df.columns"
   ]
  },
  {
   "cell_type": "code",
   "execution_count": 330,
   "metadata": {},
   "outputs": [],
   "source": [
    "#columns_to_select = ['E6 DEV (MWh)', 'MET DEV (MWh)', 'MS DEV (MWh)',\n",
    "#       'W+1 DEV (MWh)', 'E6 ADEV (MWh)', 'MET ADEV (MWh)', 'MS ADEV (MWh)',\n",
    "#       'W+1 ADEV (MWh)', 'DAILY SUM MQ', 'E6 NADEV (%)', 'MET NADEV (%)',\n",
    "#       'MS NADEV (%)', 'W+1 NADEV (%)', 'E6 RMSDEV (MWh)', 'MET RMSDEV (MWh)',\n",
    "#       'MS RMSDEV (MWh)', 'W+1 RMSDEV (MWh)', 'E6 ANDEV (%)', 'MET ANDEV (%)',\n",
    "#       'MS ANDEV (%)', 'W+1 ANDEV (%)', 'E6 NRMSDEV (%)', 'MET NRMSDEV (%)',\n",
    "#       'MS NRMSDEV (%)', 'W+1 NRMSDEV(%)']\n",
    "columns_to_select = ['E6 DEV (MWh)', 'MET DEV (MWh)', 'MS DEV (MWh)',\n",
    "       'E6 ADEV (MWh)', 'MET ADEV (MWh)', 'MS ADEV (MWh)',\n",
    "       'DAILY SUM MQ', 'E6 NADEV (%)', 'MET NADEV (%)',\n",
    "       'MS NADEV (%)', 'E6 RMSDEV (MWh)', 'MET RMSDEV (MWh)',\n",
    "       'MS RMSDEV (MWh)', 'E6 ANDEV (%)', 'MET ANDEV (%)',\n",
    "       'MS ANDEV (%)', 'E6 NRMSDEV (%)', 'MET NRMSDEV (%)',\n",
    "       'MS NRMSDEV (%)']"
   ]
  },
  {
   "cell_type": "code",
   "execution_count": 331,
   "metadata": {},
   "outputs": [],
   "source": [
    "new_df = df[mask][columns_to_select]"
   ]
  },
  {
   "cell_type": "markdown",
   "metadata": {},
   "source": [
    "Save the data to an excel file with different sheets"
   ]
  },
  {
   "cell_type": "code",
   "execution_count": 334,
   "metadata": {},
   "outputs": [],
   "source": [
    "path = \"C:/Users/Eleni/OneDrive - Hellenic Association for Energy Economics (1)/GEARS TASKS/Tasks/METEOGEN Analysis/weekly_KPIs.xlsx\""
   ]
  },
  {
   "cell_type": "code",
   "execution_count": 335,
   "metadata": {},
   "outputs": [],
   "source": [
    "# Sort the DataFrame by the datetime index (if it's not already sorted)\n",
    "new_df = new_df.sort_index()\n",
    "\n",
    "# Group the DataFrame by week\n",
    "weekly_groups = new_df.groupby(pd.Grouper(freq='W'))\n",
    "\n",
    "# Create an Excel writer with the xlsxwriter engine\n",
    "excel_writer = pd.ExcelWriter('path', engine='xlsxwriter')\n",
    "\n",
    "# Iterate through the groups and save each week as a separate sheet\n",
    "for week, week_data in weekly_groups:\n",
    "    sheet_name = f'Week_{week.strftime(\"%Y-%m-%d\")}'\n",
    "    week_data.to_excel(excel_writer, sheet_name=sheet_name)\n",
    "\n",
    "# Save the Excel file\n",
    "excel_writer.close()"
   ]
  },
  {
   "cell_type": "markdown",
   "metadata": {},
   "source": [
    "WEEKLY"
   ]
  },
  {
   "cell_type": "code",
   "execution_count": 351,
   "metadata": {},
   "outputs": [],
   "source": [
    "df_new = pd.DataFrame()"
   ]
  },
  {
   "cell_type": "markdown",
   "metadata": {},
   "source": [
    "MQ"
   ]
  },
  {
   "cell_type": "code",
   "execution_count": 352,
   "metadata": {},
   "outputs": [],
   "source": [
    "weekly_sum = (df['MQ (MWh)']).resample('W').transform('sum')\n",
    "df_new['weekly MQ'] = weekly_sum"
   ]
  },
  {
   "cell_type": "markdown",
   "metadata": {},
   "source": [
    "ADEV"
   ]
  },
  {
   "cell_type": "code",
   "execution_count": 353,
   "metadata": {},
   "outputs": [],
   "source": [
    "#df['MQ - E6'] = np.where(df['MQ - E6'] < 0, -df['MQ - E6'], df['MQ - E6'])\n",
    "weekly_sum = df['MQ - E6'].resample('W').transform('sum')\n",
    "df_new['weekly E6 ADEV'] = weekly_sum"
   ]
  },
  {
   "cell_type": "code",
   "execution_count": 354,
   "metadata": {},
   "outputs": [],
   "source": [
    "weekly_sum = df['MQ - MET'].resample('W').transform('sum')\n",
    "df_new['weekly MET ADEV'] = weekly_sum"
   ]
  },
  {
   "cell_type": "code",
   "execution_count": 355,
   "metadata": {},
   "outputs": [],
   "source": [
    "weekly_sum = df['MQ - MS'].resample('W').transform('sum')\n",
    "df_new['weekly MS ADEV'] = weekly_sum"
   ]
  },
  {
   "cell_type": "markdown",
   "metadata": {},
   "source": [
    "NADEV"
   ]
  },
  {
   "cell_type": "code",
   "execution_count": 356,
   "metadata": {},
   "outputs": [],
   "source": [
    "df_new['weekly E6 NADEV'] = (df_new['weekly E6 ADEV']/df_new['weekly MQ'])*100\n",
    "df_new['weekly MET NADEV'] = (df_new['weekly MET ADEV']/df_new['weekly MQ'])*100\n",
    "df_new['weekly MS NADEV'] = (df_new['weekly MS ADEV']/df_new['weekly MQ'])*100"
   ]
  },
  {
   "cell_type": "markdown",
   "metadata": {},
   "source": [
    "RMSDEV"
   ]
  },
  {
   "cell_type": "code",
   "execution_count": 357,
   "metadata": {},
   "outputs": [],
   "source": [
    "weekly_sum = ((df['MQ - E6'])**2).resample('W').transform('sum')\n",
    "df_new['weekly E6 RMSDEV'] = (weekly_sum)**(1/2)\n",
    "weekly_sum = ((df['MQ - MET'])**2).resample('W').transform('sum')\n",
    "df_new['weekly MET RMSDEV'] = (weekly_sum)**(1/2)\n",
    "weekly_sum = ((df['MQ - MS'])**2).resample('W').transform('sum')\n",
    "df_new['weekly MS RMSDEV'] = (weekly_sum)**(1/2)"
   ]
  },
  {
   "cell_type": "markdown",
   "metadata": {},
   "source": [
    "NRMSDEV"
   ]
  },
  {
   "cell_type": "code",
   "execution_count": 358,
   "metadata": {},
   "outputs": [],
   "source": [
    "weekly_sum = ((df['MQ (MWh)'])**2).resample('W').transform('sum')\n",
    "df['dummy'] = (weekly_sum)**(1/2)\n",
    "df_new['weekly E6 NRMSDEV'] = (df_new['weekly E6 RMSDEV']/df['dummy'])*100\n",
    "df_new['weekly MET NRMSDEV'] = (df_new['weekly MET RMSDEV']/df['dummy'])*100\n",
    "df_new['weekly MS NRMSDEV'] = (df_new['weekly MS RMSDEV']/df['dummy'])*100"
   ]
  },
  {
   "cell_type": "markdown",
   "metadata": {},
   "source": [
    "Filter and keep only Monday and the first entry"
   ]
  },
  {
   "cell_type": "code",
   "execution_count": 359,
   "metadata": {},
   "outputs": [],
   "source": [
    "df_new = df_new[(df_new.index.time == pd.to_datetime('02:00:00').time()) & (df_new.index.day_name() == 'Monday')]"
   ]
  },
  {
   "cell_type": "code",
   "execution_count": 360,
   "metadata": {},
   "outputs": [
    {
     "data": {
      "text/html": [
       "<div>\n",
       "<style scoped>\n",
       "    .dataframe tbody tr th:only-of-type {\n",
       "        vertical-align: middle;\n",
       "    }\n",
       "\n",
       "    .dataframe tbody tr th {\n",
       "        vertical-align: top;\n",
       "    }\n",
       "\n",
       "    .dataframe thead th {\n",
       "        text-align: right;\n",
       "    }\n",
       "</style>\n",
       "<table border=\"1\" class=\"dataframe\">\n",
       "  <thead>\n",
       "    <tr style=\"text-align: right;\">\n",
       "      <th></th>\n",
       "      <th>weekly MQ</th>\n",
       "      <th>weekly E6 ADEV</th>\n",
       "      <th>weekly MET ADEV</th>\n",
       "      <th>weekly MS ADEV</th>\n",
       "      <th>weekly E6 NADEV</th>\n",
       "      <th>weekly MET NADEV</th>\n",
       "      <th>weekly MS NADEV</th>\n",
       "      <th>weekly E6 RMSDEV</th>\n",
       "      <th>weekly MET RMSDEV</th>\n",
       "      <th>weekly MS RMSDEV</th>\n",
       "      <th>weekly E6 NRMSDEV</th>\n",
       "      <th>weekly MET NRMSDEV</th>\n",
       "      <th>weekly MS NRMSDEV</th>\n",
       "    </tr>\n",
       "    <tr>\n",
       "      <th>Valid Date UTC+2</th>\n",
       "      <th></th>\n",
       "      <th></th>\n",
       "      <th></th>\n",
       "      <th></th>\n",
       "      <th></th>\n",
       "      <th></th>\n",
       "      <th></th>\n",
       "      <th></th>\n",
       "      <th></th>\n",
       "      <th></th>\n",
       "      <th></th>\n",
       "      <th></th>\n",
       "      <th></th>\n",
       "    </tr>\n",
       "  </thead>\n",
       "  <tbody>\n",
       "    <tr>\n",
       "      <th>2023-11-20 02:00:00</th>\n",
       "      <td>202.146</td>\n",
       "      <td>67.14275</td>\n",
       "      <td>83.018299</td>\n",
       "      <td>67.964</td>\n",
       "      <td>33.214978</td>\n",
       "      <td>41.068484</td>\n",
       "      <td>33.621244</td>\n",
       "      <td>5.394383</td>\n",
       "      <td>5.949430</td>\n",
       "      <td>5.788067</td>\n",
       "      <td>31.586558</td>\n",
       "      <td>34.836607</td>\n",
       "      <td>33.891755</td>\n",
       "    </tr>\n",
       "    <tr>\n",
       "      <th>2023-11-27 02:00:00</th>\n",
       "      <td>230.384</td>\n",
       "      <td>83.12275</td>\n",
       "      <td>48.809709</td>\n",
       "      <td>66.732</td>\n",
       "      <td>36.080088</td>\n",
       "      <td>21.186241</td>\n",
       "      <td>28.965553</td>\n",
       "      <td>5.878018</td>\n",
       "      <td>3.848615</td>\n",
       "      <td>5.552349</td>\n",
       "      <td>31.158788</td>\n",
       "      <td>20.401125</td>\n",
       "      <td>29.432450</td>\n",
       "    </tr>\n",
       "    <tr>\n",
       "      <th>2023-12-04 02:00:00</th>\n",
       "      <td>189.164</td>\n",
       "      <td>76.37550</td>\n",
       "      <td>69.830889</td>\n",
       "      <td>72.480</td>\n",
       "      <td>40.375283</td>\n",
       "      <td>36.915528</td>\n",
       "      <td>38.315959</td>\n",
       "      <td>6.633385</td>\n",
       "      <td>6.010473</td>\n",
       "      <td>6.315935</td>\n",
       "      <td>41.356477</td>\n",
       "      <td>37.472878</td>\n",
       "      <td>39.377310</td>\n",
       "    </tr>\n",
       "    <tr>\n",
       "      <th>2023-12-11 02:00:00</th>\n",
       "      <td>207.018</td>\n",
       "      <td>81.63350</td>\n",
       "      <td>63.129325</td>\n",
       "      <td>57.438</td>\n",
       "      <td>39.433044</td>\n",
       "      <td>30.494607</td>\n",
       "      <td>27.745413</td>\n",
       "      <td>6.195611</td>\n",
       "      <td>5.354354</td>\n",
       "      <td>4.789610</td>\n",
       "      <td>34.953948</td>\n",
       "      <td>30.207802</td>\n",
       "      <td>27.021670</td>\n",
       "    </tr>\n",
       "  </tbody>\n",
       "</table>\n",
       "</div>"
      ],
      "text/plain": [
       "                     weekly MQ  weekly E6 ADEV  weekly MET ADEV  \\\n",
       "Valid Date UTC+2                                                  \n",
       "2023-11-20 02:00:00    202.146        67.14275        83.018299   \n",
       "2023-11-27 02:00:00    230.384        83.12275        48.809709   \n",
       "2023-12-04 02:00:00    189.164        76.37550        69.830889   \n",
       "2023-12-11 02:00:00    207.018        81.63350        63.129325   \n",
       "\n",
       "                     weekly MS ADEV  weekly E6 NADEV  weekly MET NADEV  \\\n",
       "Valid Date UTC+2                                                         \n",
       "2023-11-20 02:00:00          67.964        33.214978         41.068484   \n",
       "2023-11-27 02:00:00          66.732        36.080088         21.186241   \n",
       "2023-12-04 02:00:00          72.480        40.375283         36.915528   \n",
       "2023-12-11 02:00:00          57.438        39.433044         30.494607   \n",
       "\n",
       "                     weekly MS NADEV  weekly E6 RMSDEV  weekly MET RMSDEV  \\\n",
       "Valid Date UTC+2                                                            \n",
       "2023-11-20 02:00:00        33.621244          5.394383           5.949430   \n",
       "2023-11-27 02:00:00        28.965553          5.878018           3.848615   \n",
       "2023-12-04 02:00:00        38.315959          6.633385           6.010473   \n",
       "2023-12-11 02:00:00        27.745413          6.195611           5.354354   \n",
       "\n",
       "                     weekly MS RMSDEV  weekly E6 NRMSDEV  weekly MET NRMSDEV  \\\n",
       "Valid Date UTC+2                                                               \n",
       "2023-11-20 02:00:00          5.788067          31.586558           34.836607   \n",
       "2023-11-27 02:00:00          5.552349          31.158788           20.401125   \n",
       "2023-12-04 02:00:00          6.315935          41.356477           37.472878   \n",
       "2023-12-11 02:00:00          4.789610          34.953948           30.207802   \n",
       "\n",
       "                     weekly MS NRMSDEV  \n",
       "Valid Date UTC+2                        \n",
       "2023-11-20 02:00:00          33.891755  \n",
       "2023-11-27 02:00:00          29.432450  \n",
       "2023-12-04 02:00:00          39.377310  \n",
       "2023-12-11 02:00:00          27.021670  "
      ]
     },
     "execution_count": 360,
     "metadata": {},
     "output_type": "execute_result"
    }
   ],
   "source": [
    "df_new.head()"
   ]
  },
  {
   "cell_type": "markdown",
   "metadata": {},
   "source": [
    "SAVE TO DIFFERENT FILE"
   ]
  },
  {
   "cell_type": "code",
   "execution_count": 361,
   "metadata": {},
   "outputs": [],
   "source": [
    "path = \"C:/Users/Eleni/OneDrive - Hellenic Association for Energy Economics (1)/GEARS TASKS/Tasks/METEOGEN Analysis/KPIs_for_ther_week.xlsx\""
   ]
  },
  {
   "cell_type": "code",
   "execution_count": 362,
   "metadata": {},
   "outputs": [],
   "source": [
    "#data = pd.read_excel(path)\n",
    "#data.info()"
   ]
  },
  {
   "cell_type": "code",
   "execution_count": 363,
   "metadata": {},
   "outputs": [],
   "source": [
    "#data.set_index('Valid Date UTC+2', inplace = True)"
   ]
  },
  {
   "cell_type": "code",
   "execution_count": 364,
   "metadata": {},
   "outputs": [],
   "source": [
    "#df_new = pd.concat([df_new, data], axis = 0)"
   ]
  },
  {
   "cell_type": "code",
   "execution_count": 365,
   "metadata": {},
   "outputs": [],
   "source": [
    "#df_new.head()"
   ]
  },
  {
   "cell_type": "code",
   "execution_count": 366,
   "metadata": {},
   "outputs": [],
   "source": [
    "df_new.to_excel(path,index=True)"
   ]
  },
  {
   "cell_type": "markdown",
   "metadata": {},
   "source": [
    "TOLLERANCE"
   ]
  },
  {
   "cell_type": "markdown",
   "metadata": {},
   "source": [
    "NCBALR_C1p,m=0 only if both A & B ≤ 0, otherwise =MAX(A,B) <br>\n",
    "NCBALR_C2p,m=0 only if ANDEV < 𝑻𝑶𝑳𝒓,𝑫𝑬𝑽_NORM <br>\n",
    "NADEV < 𝑻𝑶𝑳𝒓,𝑨𝑫𝑬𝑽 (%) <br>\n",
    "NRMSDEV < 𝑻𝑶𝑳𝒓, 𝑹𝑴𝑺𝑫𝑬𝑽 (%) <br>"
   ]
  },
  {
   "cell_type": "markdown",
   "metadata": {},
   "source": [
    "Α = (𝑈𝑁𝐶𝐵𝐴𝐿𝑅𝐴𝐷𝐸𝑉 ∗ 𝐴𝐷𝐸𝑉𝑝,𝑚) ∗ (𝑁𝐴𝐷𝐸𝑉𝑝,𝑚 − 𝑇𝑂𝐿𝑟,𝐴𝐷𝐸𝑉) (€) <br>\n",
    "Β = (𝑈𝑁𝐶𝐵𝐴𝐿𝑅𝑅𝑀𝑆𝐷𝐸𝑉 ∗ 𝑅𝑀𝑆𝐷𝐸𝑉𝑝,𝑚) ∗ (𝑁𝑅𝑀𝑆𝐷𝐸𝑉𝑝,𝑚 − 𝑇𝑂𝐿𝑟,𝑅𝑀𝑆𝐷𝐸𝑉) (€)\n"
   ]
  },
  {
   "cell_type": "markdown",
   "metadata": {},
   "source": [
    "These constants can change, they depend from IPTO <br>\n",
    "α2ADEV = -0.009 <br>\n",
    "α2RMSDEV = -0.009 <br>\n",
    "α3ADEV = 0.28 <br>\n",
    "α3RMSDEV = 0.28 <br>\n",
    "α1ADEV = 0.35 <br>\n",
    "α1RMSDEV = 0.4 <br>\n",
    "UNCBALR, ADEV  €/MWh = 10 <br>\n",
    "UNCBALR, RMSDEV €/MWh = 210 <br>\n",
    "minTOLADEV =20% <br>\n",
    "minTOLRMSDEV = 20% <br>\n",
    "maxTOLADEV = 100% <br>\n",
    "maxTOLRMSDEV = 100% <br>\n",
    "maxTOL_DEV_NORM = 0.27<br>\n",
    "minTOL_DEV_NORM = 0.0109<br>\n",
    "a1DEV_NORM = 0.27<br>\n",
    "a2DEV_NORM = 0.0109<br>\n",
    "a3DEV_NORM = 0.28<br>"
   ]
  },
  {
   "cell_type": "code",
   "execution_count": 367,
   "metadata": {},
   "outputs": [],
   "source": [
    "df_tol = pd.DataFrame()"
   ]
  },
  {
   "cell_type": "code",
   "execution_count": 368,
   "metadata": {},
   "outputs": [],
   "source": [
    "#Set the constants\n",
    "a1ADEV = 0.35\n",
    "a1RMSDEV = 0.4\n",
    "a2ADEV = -0.009\n",
    "a2RMSDEV = a2ADEV\n",
    "a3ADEV = 0.28\n",
    "a3RMSDEV = a3ADEV\n",
    "UNCBALR_ADEV = 10 #EURO/MWh\n",
    "UNCBALR_RMSDEV = 210 #EURO/MWh\n",
    "min_TOLADEV = 0.20 #20%\n",
    "minTOLRMSDEV = 0.20#20%\n",
    "maxTOLADEV = 1#100%\n",
    "maxTOLRMSDEV = 1#100%"
   ]
  },
  {
   "cell_type": "code",
   "execution_count": 369,
   "metadata": {},
   "outputs": [],
   "source": [
    "maxTOL_DEV_NORM = 1#100%\n",
    "minTOL_DEV_NORM = 0.0005#0.05%\n",
    "a1DEV_NORM = 0.27\n",
    "a2DEV_NORM = -0.0109\n",
    "a3DEV_NORM = 0.28"
   ]
  },
  {
   "cell_type": "markdown",
   "metadata": {},
   "source": [
    "TOL_ADEV<BR>\n",
    "𝑻𝑶𝑳𝒓,𝑨𝑫𝑬𝑽 (%) = MAX(minTOLADEV,MIN(maxTOLADEV, α1ADEV+ α2ADEV*MQ^ α3ADEV))->"
   ]
  },
  {
   "cell_type": "code",
   "execution_count": 370,
   "metadata": {},
   "outputs": [],
   "source": [
    "def calculate_TOL_ADEV(x):\n",
    "    return max(min_TOLADEV, min(maxTOLADEV, (a1ADEV + (a2ADEV * (x ** a3ADEV)))))\n",
    "\n",
    "# Apply the function to each element of the 'MQ weekly' column\n",
    "df_tol['TOL_ADEV'] = df_new['weekly MQ'].apply(calculate_TOL_ADEV)"
   ]
  },
  {
   "cell_type": "markdown",
   "metadata": {},
   "source": [
    "TOL_DEV_NORM<BR>\n",
    "𝑻𝑶𝑳𝒓,𝑫𝑬𝑽_NORM (%) = MAX(minTOL DEV_NORM, MIN(maxTOL DEV_NORM, α1DEV_NORM+ α2DEV_NORM *MQ^ α3DEV_NORM)<br>\n",
    "ΕΙΝΑΙ ΕΝΤΑΞΕΙ"
   ]
  },
  {
   "cell_type": "code",
   "execution_count": 371,
   "metadata": {},
   "outputs": [],
   "source": [
    "def calculate_TOL_DEV_NORM(x):\n",
    "    return max(minTOL_DEV_NORM, min(maxTOL_DEV_NORM, a1DEV_NORM + a2DEV_NORM * (x ** a3DEV_NORM)))\n",
    "\n",
    "# Apply the function to each element of the 'MQ weekly' column\n",
    "df_tol['TOL_DEV_NORM'] = df_new['weekly MQ'].apply(calculate_TOL_DEV_NORM)"
   ]
  },
  {
   "cell_type": "markdown",
   "metadata": {},
   "source": [
    "TOL_RMSDEV<BR>\n",
    "𝑻𝑶𝑳𝒓,𝑹𝑴𝑺𝑫𝑬𝑽 (%) = MAX(minTOLRMSDEV,MIN(maxTOLRMSDEV, α1RMSDEV+ α2RMSDEV*MQ^ α3RMSDEV))"
   ]
  },
  {
   "cell_type": "code",
   "execution_count": 372,
   "metadata": {},
   "outputs": [],
   "source": [
    "def calculate_TOL_RMSDEV(x):\n",
    "    return max(minTOLRMSDEV, min(maxTOLRMSDEV, a1RMSDEV + a2RMSDEV * (x ** a3RMSDEV)))\n",
    "\n",
    "# Apply the function to each element of the 'MQ weekly' column\n",
    "df_tol['TOL_RMSDEV'] = df_new['weekly MQ'].apply(calculate_TOL_RMSDEV)"
   ]
  },
  {
   "cell_type": "markdown",
   "metadata": {},
   "source": [
    "Α = (UNCBALR, ADEV  €/MWh * ADEV) * (NADEV - 𝑻𝑶𝑳𝒓,𝑨𝑫𝑬𝑽 (%)) (€)"
   ]
  },
  {
   "cell_type": "code",
   "execution_count": 373,
   "metadata": {},
   "outputs": [],
   "source": [
    "df_tol['E6 A'] = (UNCBALR_ADEV*df_new['weekly E6 ADEV'])*(df_new['weekly E6 NADEV']/100-df_tol['TOL_ADEV'])"
   ]
  },
  {
   "cell_type": "code",
   "execution_count": 374,
   "metadata": {},
   "outputs": [],
   "source": [
    "df_tol['MET A'] = (UNCBALR_ADEV* df_new['weekly MET ADEV'])*(df_new['weekly MET NADEV']/100-df_tol['TOL_ADEV'])"
   ]
  },
  {
   "cell_type": "code",
   "execution_count": 375,
   "metadata": {},
   "outputs": [],
   "source": [
    "df_tol['MS A'] = UNCBALR_ADEV* df_new['weekly MS ADEV']*(df_new['weekly MS NADEV']/100-df_tol['TOL_ADEV'])"
   ]
  },
  {
   "cell_type": "markdown",
   "metadata": {},
   "source": [
    "B = (UNCBALR, RMSDEV €/MWh * RMSDEV) * (NRMSDEV - 𝑻𝑶𝑳𝒓,𝑹𝑴𝑺𝑫𝑬𝑽 (%))(€)"
   ]
  },
  {
   "cell_type": "code",
   "execution_count": 376,
   "metadata": {},
   "outputs": [],
   "source": [
    "df_tol['E6 B'] = UNCBALR_RMSDEV* df_new['weekly E6 RMSDEV']*(df_new['weekly E6 NRMSDEV']/100-df_tol['TOL_RMSDEV'])"
   ]
  },
  {
   "cell_type": "code",
   "execution_count": 377,
   "metadata": {},
   "outputs": [],
   "source": [
    "df_tol['MET B'] = UNCBALR_RMSDEV* df_new['weekly MET RMSDEV']*(df_new['weekly MET NRMSDEV']/100-df_tol['TOL_RMSDEV'])"
   ]
  },
  {
   "cell_type": "code",
   "execution_count": 378,
   "metadata": {},
   "outputs": [],
   "source": [
    "df_tol['MS B'] = UNCBALR_RMSDEV* df_new['weekly MS RMSDEV']*(df_new['weekly MS NRMSDEV']/100-df_tol['TOL_RMSDEV'])"
   ]
  },
  {
   "cell_type": "code",
   "execution_count": 379,
   "metadata": {},
   "outputs": [
    {
     "data": {
      "text/html": [
       "<div>\n",
       "<style scoped>\n",
       "    .dataframe tbody tr th:only-of-type {\n",
       "        vertical-align: middle;\n",
       "    }\n",
       "\n",
       "    .dataframe tbody tr th {\n",
       "        vertical-align: top;\n",
       "    }\n",
       "\n",
       "    .dataframe thead th {\n",
       "        text-align: right;\n",
       "    }\n",
       "</style>\n",
       "<table border=\"1\" class=\"dataframe\">\n",
       "  <thead>\n",
       "    <tr style=\"text-align: right;\">\n",
       "      <th></th>\n",
       "      <th>TOL_ADEV</th>\n",
       "      <th>TOL_DEV_NORM</th>\n",
       "      <th>TOL_RMSDEV</th>\n",
       "      <th>E6 A</th>\n",
       "      <th>MET A</th>\n",
       "      <th>MS A</th>\n",
       "      <th>E6 B</th>\n",
       "      <th>MET B</th>\n",
       "      <th>MS B</th>\n",
       "    </tr>\n",
       "    <tr>\n",
       "      <th>Valid Date UTC+2</th>\n",
       "      <th></th>\n",
       "      <th></th>\n",
       "      <th></th>\n",
       "      <th></th>\n",
       "      <th></th>\n",
       "      <th></th>\n",
       "      <th></th>\n",
       "      <th></th>\n",
       "      <th></th>\n",
       "    </tr>\n",
       "  </thead>\n",
       "  <tbody>\n",
       "    <tr>\n",
       "      <th>2023-11-20 02:00:00</th>\n",
       "      <td>0.310205</td>\n",
       "      <td>0.221804</td>\n",
       "      <td>0.360205</td>\n",
       "      <td>14.734346</td>\n",
       "      <td>83.416676</td>\n",
       "      <td>17.675712</td>\n",
       "      <td>-50.228580</td>\n",
       "      <td>-14.791299</td>\n",
       "      <td>-25.874743</td>\n",
       "    </tr>\n",
       "    <tr>\n",
       "      <th>2023-11-27 02:00:00</th>\n",
       "      <td>0.308721</td>\n",
       "      <td>0.220007</td>\n",
       "      <td>0.358721</td>\n",
       "      <td>43.290228</td>\n",
       "      <td>-47.276397</td>\n",
       "      <td>-12.722769</td>\n",
       "      <td>-58.180359</td>\n",
       "      <td>-125.037840</td>\n",
       "      <td>-75.085894</td>\n",
       "    </tr>\n",
       "    <tr>\n",
       "      <th>2023-12-04 02:00:00</th>\n",
       "      <td>0.310938</td>\n",
       "      <td>0.222691</td>\n",
       "      <td>0.360938</td>\n",
       "      <td>70.887982</td>\n",
       "      <td>40.653817</td>\n",
       "      <td>52.346389</td>\n",
       "      <td>73.310005</td>\n",
       "      <td>17.407032</td>\n",
       "      <td>43.551048</td>\n",
       "    </tr>\n",
       "    <tr>\n",
       "      <th>2023-12-11 02:00:00</th>\n",
       "      <td>0.309939</td>\n",
       "      <td>0.221481</td>\n",
       "      <td>0.359939</td>\n",
       "      <td>68.891915</td>\n",
       "      <td>-3.151831</td>\n",
       "      <td>-18.658498</td>\n",
       "      <td>-13.530234</td>\n",
       "      <td>-65.059405</td>\n",
       "      <td>-90.244026</td>\n",
       "    </tr>\n",
       "  </tbody>\n",
       "</table>\n",
       "</div>"
      ],
      "text/plain": [
       "                     TOL_ADEV  TOL_DEV_NORM  TOL_RMSDEV       E6 A      MET A  \\\n",
       "Valid Date UTC+2                                                                \n",
       "2023-11-20 02:00:00  0.310205      0.221804    0.360205  14.734346  83.416676   \n",
       "2023-11-27 02:00:00  0.308721      0.220007    0.358721  43.290228 -47.276397   \n",
       "2023-12-04 02:00:00  0.310938      0.222691    0.360938  70.887982  40.653817   \n",
       "2023-12-11 02:00:00  0.309939      0.221481    0.359939  68.891915  -3.151831   \n",
       "\n",
       "                          MS A       E6 B       MET B       MS B  \n",
       "Valid Date UTC+2                                                  \n",
       "2023-11-20 02:00:00  17.675712 -50.228580  -14.791299 -25.874743  \n",
       "2023-11-27 02:00:00 -12.722769 -58.180359 -125.037840 -75.085894  \n",
       "2023-12-04 02:00:00  52.346389  73.310005   17.407032  43.551048  \n",
       "2023-12-11 02:00:00 -18.658498 -13.530234  -65.059405 -90.244026  "
      ]
     },
     "execution_count": 379,
     "metadata": {},
     "output_type": "execute_result"
    }
   ],
   "source": [
    "df_tol.head(10)"
   ]
  },
  {
   "cell_type": "code",
   "execution_count": 380,
   "metadata": {},
   "outputs": [],
   "source": [
    "# Dropping the last row\n",
    "#df_tol = df_tol.drop(df_tol.index[-1])"
   ]
  },
  {
   "cell_type": "code",
   "execution_count": 381,
   "metadata": {},
   "outputs": [],
   "source": [
    "# Dropping the last row\n",
    "#df_new = df_new.drop(df_new.index[-1])"
   ]
  },
  {
   "cell_type": "code",
   "execution_count": 382,
   "metadata": {},
   "outputs": [
    {
     "name": "stdout",
     "output_type": "stream",
     "text": [
      "\n",
      "Positions of True values:\n",
      "MultiIndex([], names=['Valid Date UTC+2', None])\n"
     ]
    }
   ],
   "source": [
    "nan_values = df_new.isna()\n",
    "# Printing the positions of True values\n",
    "true_positions = nan_values.stack().loc[lambda x: x].index\n",
    "print(\"\\nPositions of True values:\")\n",
    "print(true_positions)"
   ]
  },
  {
   "cell_type": "markdown",
   "metadata": {},
   "source": [
    "NCBALR_C1 = 0 <-> A & B <=0<BR>\n",
    "ELSE|    NCBALR_C1 = MAX(A,B)"
   ]
  },
  {
   "cell_type": "code",
   "execution_count": 383,
   "metadata": {},
   "outputs": [],
   "source": [
    "if (df_tol['E6 A'] <= 0).all() and (df_tol['E6 B'] <= 0).all():\n",
    "    df_tol['NCBALR_C1 E6'] = 0\n",
    "else:\n",
    "     df_tol['NCBALR_C1 E6'] = df_tol[['E6 A', 'E6 B']].max(axis=1)"
   ]
  },
  {
   "cell_type": "code",
   "execution_count": 384,
   "metadata": {},
   "outputs": [],
   "source": [
    "if (df_tol['MET A'] <= 0).all() and (df_tol['MET B'] <= 0).all():\n",
    "    df_tol['NCBALR_C1 MET'] = 0\n",
    "else:\n",
    "     df_tol['NCBALR_C1 MET'] = df_tol[['MET A', 'MET B']].max(axis=1)\n"
   ]
  },
  {
   "cell_type": "code",
   "execution_count": 385,
   "metadata": {},
   "outputs": [],
   "source": [
    "if (df_tol['MS A'] <= 0).all() and (df_tol['MS B'] <= 0).all():\n",
    "    df_tol['NCBALR_C1 MS'] = 0\n",
    "else:\n",
    "     df_tol['NCBALR_C1 MS'] = df_tol[['MS A', 'MS B']].max(axis=1)\n"
   ]
  },
  {
   "cell_type": "markdown",
   "metadata": {},
   "source": [
    "NCBALR_C2 = 0 <-> ANDEV < 𝑻𝑶𝑳𝒓,𝑫𝑬𝑽_NORM (%)"
   ]
  },
  {
   "cell_type": "code",
   "execution_count": 386,
   "metadata": {},
   "outputs": [],
   "source": [
    "if (df_new['weekly E6 ADEV'] < df_tol['TOL_DEV_NORM']).all():\n",
    "    df_tol['NCBALR_C2 E6'] = 0\n",
    "else:\n",
    "    df_tol['NCBALR_C2 E6'] = -1"
   ]
  },
  {
   "cell_type": "code",
   "execution_count": 387,
   "metadata": {},
   "outputs": [],
   "source": [
    "if (df_new['weekly MET ADEV'] < df_tol['TOL_DEV_NORM']).all():\n",
    "    df_tol['NCBALR_C2 MET'] = 0\n",
    "else:\n",
    "    df_tol['NCBALR_C2 MET'] = -1"
   ]
  },
  {
   "cell_type": "code",
   "execution_count": 388,
   "metadata": {},
   "outputs": [],
   "source": [
    "if (df_new['weekly MS ADEV'] < df_tol['TOL_DEV_NORM']).all():\n",
    "    df_tol['NCBALR_C2 MS'] = 0\n",
    "else:\n",
    "    df_tol['NCBALR_C2 MS'] = -1"
   ]
  },
  {
   "cell_type": "code",
   "execution_count": 389,
   "metadata": {},
   "outputs": [
    {
     "data": {
      "text/html": [
       "<div>\n",
       "<style scoped>\n",
       "    .dataframe tbody tr th:only-of-type {\n",
       "        vertical-align: middle;\n",
       "    }\n",
       "\n",
       "    .dataframe tbody tr th {\n",
       "        vertical-align: top;\n",
       "    }\n",
       "\n",
       "    .dataframe thead th {\n",
       "        text-align: right;\n",
       "    }\n",
       "</style>\n",
       "<table border=\"1\" class=\"dataframe\">\n",
       "  <thead>\n",
       "    <tr style=\"text-align: right;\">\n",
       "      <th></th>\n",
       "      <th>TOL_ADEV</th>\n",
       "      <th>TOL_DEV_NORM</th>\n",
       "      <th>TOL_RMSDEV</th>\n",
       "      <th>E6 A</th>\n",
       "      <th>MET A</th>\n",
       "      <th>MS A</th>\n",
       "      <th>E6 B</th>\n",
       "      <th>MET B</th>\n",
       "      <th>MS B</th>\n",
       "      <th>NCBALR_C1 E6</th>\n",
       "      <th>NCBALR_C1 MET</th>\n",
       "      <th>NCBALR_C1 MS</th>\n",
       "      <th>NCBALR_C2 E6</th>\n",
       "      <th>NCBALR_C2 MET</th>\n",
       "      <th>NCBALR_C2 MS</th>\n",
       "    </tr>\n",
       "    <tr>\n",
       "      <th>Valid Date UTC+2</th>\n",
       "      <th></th>\n",
       "      <th></th>\n",
       "      <th></th>\n",
       "      <th></th>\n",
       "      <th></th>\n",
       "      <th></th>\n",
       "      <th></th>\n",
       "      <th></th>\n",
       "      <th></th>\n",
       "      <th></th>\n",
       "      <th></th>\n",
       "      <th></th>\n",
       "      <th></th>\n",
       "      <th></th>\n",
       "      <th></th>\n",
       "    </tr>\n",
       "  </thead>\n",
       "  <tbody>\n",
       "    <tr>\n",
       "      <th>2023-11-20 02:00:00</th>\n",
       "      <td>0.310205</td>\n",
       "      <td>0.221804</td>\n",
       "      <td>0.360205</td>\n",
       "      <td>14.734346</td>\n",
       "      <td>83.416676</td>\n",
       "      <td>17.675712</td>\n",
       "      <td>-50.228580</td>\n",
       "      <td>-14.791299</td>\n",
       "      <td>-25.874743</td>\n",
       "      <td>14.734346</td>\n",
       "      <td>83.416676</td>\n",
       "      <td>17.675712</td>\n",
       "      <td>-1</td>\n",
       "      <td>-1</td>\n",
       "      <td>-1</td>\n",
       "    </tr>\n",
       "    <tr>\n",
       "      <th>2023-11-27 02:00:00</th>\n",
       "      <td>0.308721</td>\n",
       "      <td>0.220007</td>\n",
       "      <td>0.358721</td>\n",
       "      <td>43.290228</td>\n",
       "      <td>-47.276397</td>\n",
       "      <td>-12.722769</td>\n",
       "      <td>-58.180359</td>\n",
       "      <td>-125.037840</td>\n",
       "      <td>-75.085894</td>\n",
       "      <td>43.290228</td>\n",
       "      <td>-47.276397</td>\n",
       "      <td>-12.722769</td>\n",
       "      <td>-1</td>\n",
       "      <td>-1</td>\n",
       "      <td>-1</td>\n",
       "    </tr>\n",
       "    <tr>\n",
       "      <th>2023-12-04 02:00:00</th>\n",
       "      <td>0.310938</td>\n",
       "      <td>0.222691</td>\n",
       "      <td>0.360938</td>\n",
       "      <td>70.887982</td>\n",
       "      <td>40.653817</td>\n",
       "      <td>52.346389</td>\n",
       "      <td>73.310005</td>\n",
       "      <td>17.407032</td>\n",
       "      <td>43.551048</td>\n",
       "      <td>73.310005</td>\n",
       "      <td>40.653817</td>\n",
       "      <td>52.346389</td>\n",
       "      <td>-1</td>\n",
       "      <td>-1</td>\n",
       "      <td>-1</td>\n",
       "    </tr>\n",
       "    <tr>\n",
       "      <th>2023-12-11 02:00:00</th>\n",
       "      <td>0.309939</td>\n",
       "      <td>0.221481</td>\n",
       "      <td>0.359939</td>\n",
       "      <td>68.891915</td>\n",
       "      <td>-3.151831</td>\n",
       "      <td>-18.658498</td>\n",
       "      <td>-13.530234</td>\n",
       "      <td>-65.059405</td>\n",
       "      <td>-90.244026</td>\n",
       "      <td>68.891915</td>\n",
       "      <td>-3.151831</td>\n",
       "      <td>-18.658498</td>\n",
       "      <td>-1</td>\n",
       "      <td>-1</td>\n",
       "      <td>-1</td>\n",
       "    </tr>\n",
       "  </tbody>\n",
       "</table>\n",
       "</div>"
      ],
      "text/plain": [
       "                     TOL_ADEV  TOL_DEV_NORM  TOL_RMSDEV       E6 A      MET A  \\\n",
       "Valid Date UTC+2                                                                \n",
       "2023-11-20 02:00:00  0.310205      0.221804    0.360205  14.734346  83.416676   \n",
       "2023-11-27 02:00:00  0.308721      0.220007    0.358721  43.290228 -47.276397   \n",
       "2023-12-04 02:00:00  0.310938      0.222691    0.360938  70.887982  40.653817   \n",
       "2023-12-11 02:00:00  0.309939      0.221481    0.359939  68.891915  -3.151831   \n",
       "\n",
       "                          MS A       E6 B       MET B       MS B  \\\n",
       "Valid Date UTC+2                                                   \n",
       "2023-11-20 02:00:00  17.675712 -50.228580  -14.791299 -25.874743   \n",
       "2023-11-27 02:00:00 -12.722769 -58.180359 -125.037840 -75.085894   \n",
       "2023-12-04 02:00:00  52.346389  73.310005   17.407032  43.551048   \n",
       "2023-12-11 02:00:00 -18.658498 -13.530234  -65.059405 -90.244026   \n",
       "\n",
       "                     NCBALR_C1 E6  NCBALR_C1 MET  NCBALR_C1 MS  NCBALR_C2 E6  \\\n",
       "Valid Date UTC+2                                                               \n",
       "2023-11-20 02:00:00     14.734346      83.416676     17.675712            -1   \n",
       "2023-11-27 02:00:00     43.290228     -47.276397    -12.722769            -1   \n",
       "2023-12-04 02:00:00     73.310005      40.653817     52.346389            -1   \n",
       "2023-12-11 02:00:00     68.891915      -3.151831    -18.658498            -1   \n",
       "\n",
       "                     NCBALR_C2 MET  NCBALR_C2 MS  \n",
       "Valid Date UTC+2                                  \n",
       "2023-11-20 02:00:00             -1            -1  \n",
       "2023-11-27 02:00:00             -1            -1  \n",
       "2023-12-04 02:00:00             -1            -1  \n",
       "2023-12-11 02:00:00             -1            -1  "
      ]
     },
     "execution_count": 389,
     "metadata": {},
     "output_type": "execute_result"
    }
   ],
   "source": [
    "df_tol = df_tol.sort_index()\n",
    "df_tol.tail()"
   ]
  },
  {
   "cell_type": "code",
   "execution_count": 390,
   "metadata": {},
   "outputs": [],
   "source": [
    "path = \"C:/Users/Eleni/OneDrive - Hellenic Association for Energy Economics (1)/GEARS TASKS/Tasks/METEOGEN Analysis/tolerance.xlsx\""
   ]
  },
  {
   "cell_type": "code",
   "execution_count": 391,
   "metadata": {},
   "outputs": [],
   "source": [
    "# Create an ExcelWriter object\n",
    "writer = pd.ExcelWriter(path, engine='xlsxwriter')"
   ]
  },
  {
   "cell_type": "code",
   "execution_count": 392,
   "metadata": {},
   "outputs": [],
   "source": [
    "# Iterate over each week (Monday to Sunday) and write to a separate sheet\n",
    "for start_date, groups in df_tol.groupby(pd.Grouper(freq='W-Mon', closed='left', label='left')):\n",
    "    end_date = start_date + pd.DateOffset(days=6)\n",
    "    \n",
    "    sheet_name = f'{start_date.strftime(\"%Y-%m-%d\")}_{end_date.strftime(\"%Y-%m-%d\")}'\n",
    "    \n",
    "    groups.to_excel(writer, header= True, sheet_name=sheet_name)\n",
    "\n",
    "# Close the ExcelWriter, and the file will be saved automatically\n",
    "writer.close()"
   ]
  },
  {
   "cell_type": "code",
   "execution_count": null,
   "metadata": {},
   "outputs": [],
   "source": []
  },
  {
   "cell_type": "code",
   "execution_count": null,
   "metadata": {},
   "outputs": [],
   "source": []
  },
  {
   "cell_type": "code",
   "execution_count": null,
   "metadata": {},
   "outputs": [],
   "source": []
  },
  {
   "cell_type": "code",
   "execution_count": null,
   "metadata": {},
   "outputs": [],
   "source": []
  }
 ],
 "metadata": {
  "kernelspec": {
   "display_name": "Python 3",
   "language": "python",
   "name": "python3"
  },
  "language_info": {
   "codemirror_mode": {
    "name": "ipython",
    "version": 3
   },
   "file_extension": ".py",
   "mimetype": "text/x-python",
   "name": "python",
   "nbconvert_exporter": "python",
   "pygments_lexer": "ipython3",
   "version": "3.11.4"
  }
 },
 "nbformat": 4,
 "nbformat_minor": 2
}
